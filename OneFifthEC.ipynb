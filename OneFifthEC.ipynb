{
 "cells": [
  {
   "cell_type": "code",
   "execution_count": 1,
   "metadata": {},
   "outputs": [
    {
     "name": "stdout",
     "output_type": "stream",
     "text": [
      "Load model: ./model_weights/vgg11_MNIST.pt...\n",
      "validating...\n"
     ]
    },
    {
     "name": "stderr",
     "output_type": "stream",
     "text": [
      "100%|██████████| 10/10 [28:23<00:00, 170.30s/it]"
     ]
    },
    {
     "name": "stdout",
     "output_type": "stream",
     "text": [
      "{'loss': 0.1067563246935606, 'acc': 98.125}\n"
     ]
    },
    {
     "name": "stderr",
     "output_type": "stream",
     "text": [
      "\n"
     ]
    }
   ],
   "source": [
    "import numpy as np\n",
    "import math\n",
    "import prune\n",
    "import os\n",
    "import matplotlib.pyplot as plt\n",
    "from datetime import datetime\n",
    "from tqdm import tqdm\n",
    "os.environ[\"OMP_NUM_THREADS\"] = \"1\"\n",
    "\n",
    "mp = prune.ModelPruner('MNIST', 'by_channel')\n",
    "print(mp.baseline)\n",
    "\n",
    "\n",
    "\n"
   ]
  },
  {
   "cell_type": "code",
   "execution_count": 12,
   "metadata": {},
   "outputs": [],
   "source": [
    "#this is the phony generator\n",
    "def generator(in_arr):\n",
    "    pruned_model = mp.prune_model(in_arr)\n",
    "    return mp.get_fitness_score(pruned_model)\n",
    "\n",
    "def One_fifth_single_pass(decision_len, deci_arr_in, stepsize_in):\n",
    "    random_normal_i = np.random.normal(0, 1, size=(decision_len))\n",
    "    # random_normal = np.random.normal(0, 1, size=(1))\n",
    "    \n",
    "    #store input variable\n",
    "    deci_arr = np.copy(deci_arr_in)\n",
    "    stepsize = np.copy(stepsize_in)\n",
    "    \n",
    "    for i in range(decision_len):\n",
    "\n",
    "        deci_arr[i] += stepsize*random_normal_i[i]\n",
    "        if(deci_arr[i] <= 0.001):\n",
    "            deci_arr[i] = 0.001\n",
    "        elif(deci_arr[i] >= 1):\n",
    "            deci_arr[i] = 0.999\n",
    "\n",
    "    return deci_arr\n",
    "\n",
    "\n",
    "def ESXPlusX_OneFifth(  Decision_var_record, Stepsize_record, Best_score_record, PS_record,\n",
    "                        Decision_arr_init, Stepsize_init, Ggenerations, hp_a_param,\n",
    "                        Target_run):\n",
    "    train_runs = 0\n",
    "    \n",
    "    decision_var_arr = np.copy(Decision_arr_init)\n",
    "    stepsize = Stepsize_init\n",
    "    \n",
    "    best_score = generator(decision_var_arr)\n",
    "\n",
    "    while(train_runs < Target_run):\n",
    "        print(f'Training epoch: {train_runs+1}/{Target_run}')\n",
    "        # memorize_parent_decision_var_arr = np.copy(decision_var_arr)\n",
    "        # memorize_parent_stepsize = stepsize\n",
    "\n",
    "        evolve_kids = 0\n",
    "        for run in range(Ggenerations):\n",
    "\n",
    "            tmp_decision_var_arr = One_fifth_single_pass(len(Decision_arr_init),decision_var_arr,stepsize)\n",
    "            tmp_score = generator(tmp_decision_var_arr)\n",
    "\n",
    "\n",
    "            if(tmp_score < best_score):\n",
    "                evolve_kids+=1\n",
    "                best_score = tmp_score\n",
    "                decision_var_arr = np.copy(tmp_decision_var_arr)\n",
    "                \n",
    "        if(evolve_kids > (Ggenerations/5)):\n",
    "            stepsize = stepsize/hp_a_param\n",
    "        elif(evolve_kids < (Ggenerations/5)):\n",
    "            stepsize = stepsize*hp_a_param\n",
    "        \n",
    "        Decision_var_record.append(decision_var_arr)\n",
    "        Stepsize_record.append(float(stepsize))\n",
    "        Best_score_record.append(best_score)\n",
    "        PS_record.append(evolve_kids/Ggenerations)\n",
    "        train_runs+=1\n",
    "\n",
    "    return decision_var_arr, stepsize, best_score\n"
   ]
  },
  {
   "cell_type": "code",
   "execution_count": 15,
   "metadata": {},
   "outputs": [
    {
     "name": "stdout",
     "output_type": "stream",
     "text": [
      "pruning...\n",
      "validating...\n"
     ]
    },
    {
     "name": "stderr",
     "output_type": "stream",
     "text": [
      "\n",
      " 50%|█████     | 5/10 [11:21<11:21, 136.33s/it]\n",
      "\n",
      "\u001b[A\n",
      "\u001b[A\n",
      "\u001b[A\n",
      "\u001b[A\n",
      "\u001b[A\n",
      "\u001b[A\n",
      "\u001b[A\n",
      "\u001b[A\n",
      "\u001b[A\n",
      "100%|██████████| 10/10 [02:30<00:00, 15.06s/it]\n"
     ]
    },
    {
     "name": "stdout",
     "output_type": "stream",
     "text": [
      "acc: 96.5625\n",
      "loss: 0.13004571050405503\n",
      "sparsity: 0.250104151700836\n",
      "Training epoch: 1/15\n",
      "pruning...\n",
      "validating...\n"
     ]
    },
    {
     "name": "stderr",
     "output_type": "stream",
     "text": [
      "\n",
      " 50%|█████     | 5/10 [13:56<13:56, 167.26s/it]\n",
      "\n",
      "\u001b[A\n",
      "\u001b[A\n",
      "\u001b[A\n",
      "\u001b[A\n",
      "\u001b[A\n",
      "\u001b[A\n",
      "\u001b[A\n",
      "\u001b[A\n",
      "\u001b[A\n",
      "100%|██████████| 10/10 [02:20<00:00, 14.06s/it]\n"
     ]
    },
    {
     "name": "stdout",
     "output_type": "stream",
     "text": [
      "acc: 96.25\n",
      "loss: 0.14667113199830056\n",
      "sparsity: 0.2193572234171251\n"
     ]
    },
    {
     "name": "stderr",
     "output_type": "stream",
     "text": [
      " 50%|█████     | 5/10 [16:19<16:19, 195.89s/it]\n"
     ]
    },
    {
     "name": "stdout",
     "output_type": "stream",
     "text": [
      "pruning...\n",
      "validating...\n"
     ]
    },
    {
     "name": "stderr",
     "output_type": "stream",
     "text": [
      "100%|██████████| 10/10 [02:10<00:00, 13.01s/it]\n"
     ]
    },
    {
     "name": "stdout",
     "output_type": "stream",
     "text": [
      "acc: 97.03125\n",
      "loss: 0.12205344326794147\n",
      "sparsity: 0.11983924265910817\n",
      "pruning...\n",
      "validating...\n"
     ]
    },
    {
     "name": "stderr",
     "output_type": "stream",
     "text": [
      "100%|██████████| 10/10 [02:22<00:00, 14.27s/it]\n"
     ]
    },
    {
     "name": "stdout",
     "output_type": "stream",
     "text": [
      "acc: 98.125\n",
      "loss: 0.11293220520019531\n",
      "sparsity: 0.11521427984838065\n",
      "pruning...\n",
      "validating...\n"
     ]
    },
    {
     "name": "stderr",
     "output_type": "stream",
     "text": [
      "100%|██████████| 10/10 [04:46<00:00, 28.62s/it]\n"
     ]
    },
    {
     "name": "stdout",
     "output_type": "stream",
     "text": [
      "acc: 97.03125\n",
      "loss: 0.12397498227655887\n",
      "sparsity: 0.08368359943806293\n",
      "pruning...\n",
      "validating...\n"
     ]
    },
    {
     "name": "stderr",
     "output_type": "stream",
     "text": [
      "100%|██████████| 10/10 [03:00<00:00, 18.05s/it]\n"
     ]
    },
    {
     "name": "stdout",
     "output_type": "stream",
     "text": [
      "acc: 97.8125\n",
      "loss: 0.12274595499038696\n",
      "sparsity: 0.05867985469706198\n",
      "pruning...\n",
      "validating...\n"
     ]
    },
    {
     "name": "stderr",
     "output_type": "stream",
     "text": [
      "100%|██████████| 10/10 [02:59<00:00, 17.91s/it]\n"
     ]
    },
    {
     "name": "stdout",
     "output_type": "stream",
     "text": [
      "acc: 97.03125\n",
      "loss: 0.13867153972387314\n",
      "sparsity: 0.07820090577781356\n",
      "pruning...\n",
      "validating...\n"
     ]
    },
    {
     "name": "stderr",
     "output_type": "stream",
     "text": [
      "100%|██████████| 10/10 [05:32<00:00, 33.29s/it]\n"
     ]
    },
    {
     "name": "stdout",
     "output_type": "stream",
     "text": [
      "acc: 96.40625\n",
      "loss: 0.13929954916238785\n",
      "sparsity: 0.06864514346725022\n",
      "pruning...\n",
      "validating...\n"
     ]
    },
    {
     "name": "stderr",
     "output_type": "stream",
     "text": [
      "100%|██████████| 10/10 [04:32<00:00, 27.21s/it]\n"
     ]
    },
    {
     "name": "stdout",
     "output_type": "stream",
     "text": [
      "acc: 96.5625\n",
      "loss: 0.1390812188386917\n",
      "sparsity: 0.08425548470053398\n",
      "pruning...\n",
      "validating...\n"
     ]
    },
    {
     "name": "stderr",
     "output_type": "stream",
     "text": [
      "100%|██████████| 10/10 [02:41<00:00, 16.13s/it]\n"
     ]
    },
    {
     "name": "stdout",
     "output_type": "stream",
     "text": [
      "acc: 97.1875\n",
      "loss: 0.12107967957854271\n",
      "sparsity: 0.056059017335553935\n",
      "pruning...\n",
      "validating...\n"
     ]
    },
    {
     "name": "stderr",
     "output_type": "stream",
     "text": [
      "100%|██████████| 10/10 [02:46<00:00, 16.70s/it]\n"
     ]
    },
    {
     "name": "stdout",
     "output_type": "stream",
     "text": [
      "acc: 95.46875\n",
      "loss: 0.3375768929719925\n",
      "sparsity: 0.03314838367941644\n",
      "Training epoch: 2/15\n",
      "pruning...\n",
      "validating...\n"
     ]
    },
    {
     "name": "stderr",
     "output_type": "stream",
     "text": [
      "100%|██████████| 10/10 [04:55<00:00, 29.53s/it]\n"
     ]
    },
    {
     "name": "stdout",
     "output_type": "stream",
     "text": [
      "acc: 96.40625\n",
      "loss: 0.1355728030204773\n",
      "sparsity: 0.11477524419305843\n",
      "pruning...\n",
      "validating...\n"
     ]
    },
    {
     "name": "stderr",
     "output_type": "stream",
     "text": [
      "100%|██████████| 10/10 [02:40<00:00, 16.00s/it]\n"
     ]
    },
    {
     "name": "stdout",
     "output_type": "stream",
     "text": [
      "acc: 95.625\n",
      "loss: 0.19669347405433654\n",
      "sparsity: 0.03953281966785331\n",
      "pruning...\n",
      "validating...\n"
     ]
    },
    {
     "name": "stderr",
     "output_type": "stream",
     "text": [
      "100%|██████████| 10/10 [03:12<00:00, 19.23s/it]\n"
     ]
    },
    {
     "name": "stdout",
     "output_type": "stream",
     "text": [
      "acc: 95.46875\n",
      "loss: 0.27966300696134566\n",
      "sparsity: 0.043020735174757865\n",
      "pruning...\n",
      "validating...\n"
     ]
    },
    {
     "name": "stderr",
     "output_type": "stream",
     "text": [
      "100%|██████████| 10/10 [02:43<00:00, 16.38s/it]\n"
     ]
    },
    {
     "name": "stdout",
     "output_type": "stream",
     "text": [
      "acc: 96.5625\n",
      "loss: 0.14651024602353574\n",
      "sparsity: 0.07401960568913692\n",
      "pruning...\n",
      "validating...\n"
     ]
    },
    {
     "name": "stderr",
     "output_type": "stream",
     "text": [
      "100%|██████████| 10/10 [02:42<00:00, 16.24s/it]\n"
     ]
    },
    {
     "name": "stdout",
     "output_type": "stream",
     "text": [
      "acc: 13.90625\n",
      "loss: 2.3302534341812136\n",
      "sparsity: 0.040233533026457366\n",
      "pruning...\n",
      "validating...\n"
     ]
    },
    {
     "name": "stderr",
     "output_type": "stream",
     "text": [
      "100%|██████████| 10/10 [06:43<00:00, 40.36s/it]\n"
     ]
    },
    {
     "name": "stdout",
     "output_type": "stream",
     "text": [
      "acc: 8.28125\n",
      "loss: 2.3030048608779907\n",
      "sparsity: 0.08153252580253484\n",
      "pruning...\n",
      "validating...\n"
     ]
    },
    {
     "name": "stderr",
     "output_type": "stream",
     "text": [
      "100%|██████████| 10/10 [02:53<00:00, 17.37s/it]\n"
     ]
    },
    {
     "name": "stdout",
     "output_type": "stream",
     "text": [
      "acc: 23.28125\n",
      "loss: 2.065510320663452\n",
      "sparsity: 0.01847887417193556\n",
      "pruning...\n",
      "validating...\n"
     ]
    },
    {
     "name": "stderr",
     "output_type": "stream",
     "text": [
      "100%|██████████| 10/10 [04:54<00:00, 29.48s/it]\n"
     ]
    },
    {
     "name": "stdout",
     "output_type": "stream",
     "text": [
      "acc: 24.84375\n",
      "loss: 2.071553349494934\n",
      "sparsity: 0.02439683817313903\n",
      "pruning...\n",
      "validating...\n"
     ]
    },
    {
     "name": "stderr",
     "output_type": "stream",
     "text": [
      "100%|██████████| 10/10 [03:32<00:00, 21.24s/it]\n"
     ]
    },
    {
     "name": "stdout",
     "output_type": "stream",
     "text": [
      "acc: 24.53125\n",
      "loss: 2.06861572265625\n",
      "sparsity: 0.025081380088797137\n",
      "pruning...\n",
      "validating...\n"
     ]
    },
    {
     "name": "stderr",
     "output_type": "stream",
     "text": [
      "100%|██████████| 10/10 [03:37<00:00, 21.79s/it]\n"
     ]
    },
    {
     "name": "stdout",
     "output_type": "stream",
     "text": [
      "acc: 97.5\n",
      "loss: 0.12105953060090542\n",
      "sparsity: 0.14231775796941207\n",
      "Training epoch: 3/15\n",
      "pruning...\n",
      "validating...\n"
     ]
    },
    {
     "name": "stderr",
     "output_type": "stream",
     "text": [
      "100%|██████████| 10/10 [03:08<00:00, 18.90s/it]\n"
     ]
    },
    {
     "name": "stdout",
     "output_type": "stream",
     "text": [
      "acc: 82.5\n",
      "loss: 1.9025579333305358\n",
      "sparsity: 0.04152197702201768\n",
      "pruning...\n",
      "validating...\n"
     ]
    },
    {
     "name": "stderr",
     "output_type": "stream",
     "text": [
      "100%|██████████| 10/10 [02:23<00:00, 14.34s/it]\n"
     ]
    },
    {
     "name": "stdout",
     "output_type": "stream",
     "text": [
      "acc: 97.1875\n",
      "loss: 0.1304246485233307\n",
      "sparsity: 0.08924984425961055\n",
      "pruning...\n",
      "validating...\n"
     ]
    },
    {
     "name": "stderr",
     "output_type": "stream",
     "text": [
      "100%|██████████| 10/10 [03:08<00:00, 18.83s/it]\n"
     ]
    },
    {
     "name": "stdout",
     "output_type": "stream",
     "text": [
      "acc: 96.5625\n",
      "loss: 0.2343648597598076\n",
      "sparsity: 0.04391483818472222\n",
      "pruning...\n",
      "validating...\n"
     ]
    },
    {
     "name": "stderr",
     "output_type": "stream",
     "text": [
      "100%|██████████| 10/10 [02:56<00:00, 17.67s/it]\n"
     ]
    },
    {
     "name": "stdout",
     "output_type": "stream",
     "text": [
      "acc: 97.34375\n",
      "loss: 0.13190856501460074\n",
      "sparsity: 0.11875265833135272\n",
      "pruning...\n",
      "validating...\n"
     ]
    },
    {
     "name": "stderr",
     "output_type": "stream",
     "text": [
      "100%|██████████| 10/10 [02:18<00:00, 13.84s/it]\n"
     ]
    },
    {
     "name": "stdout",
     "output_type": "stream",
     "text": [
      "acc: 23.90625\n",
      "loss: 2.0660571217536927\n",
      "sparsity: 0.02206417545911565\n",
      "pruning...\n",
      "validating...\n"
     ]
    },
    {
     "name": "stderr",
     "output_type": "stream",
     "text": [
      "100%|██████████| 10/10 [02:58<00:00, 17.86s/it]\n"
     ]
    },
    {
     "name": "stdout",
     "output_type": "stream",
     "text": [
      "acc: 97.1875\n",
      "loss: 0.126968415081501\n",
      "sparsity: 0.11239606237863557\n",
      "pruning...\n",
      "validating...\n"
     ]
    },
    {
     "name": "stderr",
     "output_type": "stream",
     "text": [
      "100%|██████████| 10/10 [02:36<00:00, 15.63s/it]\n"
     ]
    },
    {
     "name": "stdout",
     "output_type": "stream",
     "text": [
      "acc: 96.875\n",
      "loss: 0.12868174016475678\n",
      "sparsity: 0.045743833816383056\n",
      "pruning...\n",
      "validating...\n"
     ]
    },
    {
     "name": "stderr",
     "output_type": "stream",
     "text": [
      "100%|██████████| 10/10 [02:42<00:00, 16.23s/it]\n"
     ]
    },
    {
     "name": "stdout",
     "output_type": "stream",
     "text": [
      "acc: 23.90625\n",
      "loss: 2.060953235626221\n",
      "sparsity: 0.01816889951878972\n",
      "pruning...\n",
      "validating...\n"
     ]
    },
    {
     "name": "stderr",
     "output_type": "stream",
     "text": [
      "100%|██████████| 10/10 [02:33<00:00, 15.33s/it]\n"
     ]
    },
    {
     "name": "stdout",
     "output_type": "stream",
     "text": [
      "acc: 96.71875\n",
      "loss: 0.14092597216367722\n",
      "sparsity: 0.0806247744984279\n",
      "pruning...\n",
      "validating...\n"
     ]
    },
    {
     "name": "stderr",
     "output_type": "stream",
     "text": [
      "100%|██████████| 10/10 [02:44<00:00, 16.49s/it]\n"
     ]
    },
    {
     "name": "stdout",
     "output_type": "stream",
     "text": [
      "acc: 48.90625\n",
      "loss: 1.67308167219162\n",
      "sparsity: 0.025513987537321835\n",
      "Training epoch: 4/15\n",
      "pruning...\n",
      "validating...\n"
     ]
    },
    {
     "name": "stderr",
     "output_type": "stream",
     "text": [
      "100%|██████████| 10/10 [02:48<00:00, 16.89s/it]\n"
     ]
    },
    {
     "name": "stdout",
     "output_type": "stream",
     "text": [
      "acc: 25.46875\n",
      "loss: 2.07064528465271\n",
      "sparsity: 0.017879288617370818\n",
      "pruning...\n",
      "validating...\n"
     ]
    },
    {
     "name": "stderr",
     "output_type": "stream",
     "text": [
      "100%|██████████| 10/10 [03:21<00:00, 20.14s/it]\n"
     ]
    },
    {
     "name": "stdout",
     "output_type": "stream",
     "text": [
      "acc: 96.40625\n",
      "loss: 0.19925737380981445\n",
      "sparsity: 0.031244050706254193\n",
      "pruning...\n",
      "validating...\n"
     ]
    },
    {
     "name": "stderr",
     "output_type": "stream",
     "text": [
      "100%|██████████| 10/10 [03:18<00:00, 19.80s/it]\n"
     ]
    },
    {
     "name": "stdout",
     "output_type": "stream",
     "text": [
      "acc: 47.34375\n",
      "loss: 1.826983392238617\n",
      "sparsity: 0.044206219172070876\n",
      "pruning...\n",
      "validating...\n"
     ]
    },
    {
     "name": "stderr",
     "output_type": "stream",
     "text": [
      "100%|██████████| 10/10 [02:57<00:00, 17.71s/it]\n"
     ]
    },
    {
     "name": "stdout",
     "output_type": "stream",
     "text": [
      "acc: 22.5\n",
      "loss: 2.0981779217720034\n",
      "sparsity: 0.016698175490138734\n",
      "pruning...\n",
      "validating...\n"
     ]
    },
    {
     "name": "stderr",
     "output_type": "stream",
     "text": [
      "100%|██████████| 10/10 [02:34<00:00, 15.41s/it]\n"
     ]
    },
    {
     "name": "stdout",
     "output_type": "stream",
     "text": [
      "acc: 96.40625\n",
      "loss: 0.13358550816774367\n",
      "sparsity: 0.0615476889175836\n",
      "pruning...\n",
      "validating...\n"
     ]
    },
    {
     "name": "stderr",
     "output_type": "stream",
     "text": [
      "100%|██████████| 10/10 [02:17<00:00, 13.77s/it]\n"
     ]
    },
    {
     "name": "stdout",
     "output_type": "stream",
     "text": [
      "acc: 90.9375\n",
      "loss: 0.5440008878707886\n",
      "sparsity: 0.025830328288986962\n",
      "pruning...\n",
      "validating...\n"
     ]
    },
    {
     "name": "stderr",
     "output_type": "stream",
     "text": [
      "100%|██████████| 10/10 [01:55<00:00, 11.59s/it]\n"
     ]
    },
    {
     "name": "stdout",
     "output_type": "stream",
     "text": [
      "acc: 97.96875\n",
      "loss: 0.11339852139353752\n",
      "sparsity: 0.04129293721894937\n",
      "pruning...\n",
      "validating...\n"
     ]
    },
    {
     "name": "stderr",
     "output_type": "stream",
     "text": [
      "100%|██████████| 10/10 [01:48<00:00, 10.84s/it]\n"
     ]
    },
    {
     "name": "stdout",
     "output_type": "stream",
     "text": [
      "acc: 97.1875\n",
      "loss: 0.12669136449694635\n",
      "sparsity: 0.061422851278327334\n",
      "pruning...\n",
      "validating...\n"
     ]
    },
    {
     "name": "stderr",
     "output_type": "stream",
     "text": [
      "100%|██████████| 10/10 [01:25<00:00,  8.54s/it]\n"
     ]
    },
    {
     "name": "stdout",
     "output_type": "stream",
     "text": [
      "acc: 56.25\n",
      "loss: 1.3064960718154908\n",
      "sparsity: 0.024905015869208538\n",
      "pruning...\n",
      "validating...\n"
     ]
    },
    {
     "name": "stderr",
     "output_type": "stream",
     "text": [
      "100%|██████████| 10/10 [02:22<00:00, 14.28s/it]\n"
     ]
    },
    {
     "name": "stdout",
     "output_type": "stream",
     "text": [
      "acc: 95.78125\n",
      "loss: 0.16355568841099738\n",
      "sparsity: 0.045164619777080035\n",
      "Training epoch: 5/15\n",
      "pruning...\n",
      "validating...\n"
     ]
    },
    {
     "name": "stderr",
     "output_type": "stream",
     "text": [
      "100%|██████████| 10/10 [01:51<00:00, 11.18s/it]\n"
     ]
    },
    {
     "name": "stdout",
     "output_type": "stream",
     "text": [
      "acc: 94.21875\n",
      "loss: 0.5190026551485062\n",
      "sparsity: 0.03539845791045424\n",
      "pruning...\n",
      "validating...\n"
     ]
    },
    {
     "name": "stderr",
     "output_type": "stream",
     "text": [
      "100%|██████████| 10/10 [01:58<00:00, 11.81s/it]\n"
     ]
    },
    {
     "name": "stdout",
     "output_type": "stream",
     "text": [
      "acc: 9.6875\n",
      "loss: 2.3118768453598024\n",
      "sparsity: 0.06256141247143232\n",
      "pruning...\n",
      "validating...\n"
     ]
    },
    {
     "name": "stderr",
     "output_type": "stream",
     "text": [
      "100%|██████████| 10/10 [02:29<00:00, 14.94s/it]\n"
     ]
    },
    {
     "name": "stdout",
     "output_type": "stream",
     "text": [
      "acc: 58.12500000000001\n",
      "loss: 1.3136069655418396\n",
      "sparsity: 0.024381877841618705\n",
      "pruning...\n",
      "validating...\n"
     ]
    },
    {
     "name": "stderr",
     "output_type": "stream",
     "text": [
      "100%|██████████| 10/10 [02:11<00:00, 13.14s/it]\n"
     ]
    },
    {
     "name": "stdout",
     "output_type": "stream",
     "text": [
      "acc: 58.90625000000001\n",
      "loss: 1.2791417360305786\n",
      "sparsity: 0.029245631455097742\n",
      "pruning...\n",
      "validating...\n"
     ]
    },
    {
     "name": "stderr",
     "output_type": "stream",
     "text": [
      "100%|██████████| 10/10 [01:33<00:00,  9.39s/it]\n"
     ]
    },
    {
     "name": "stdout",
     "output_type": "stream",
     "text": [
      "acc: 44.375\n",
      "loss: 2.1526058435440065\n",
      "sparsity: 0.07221688185917031\n",
      "pruning...\n",
      "validating...\n"
     ]
    },
    {
     "name": "stderr",
     "output_type": "stream",
     "text": [
      "100%|██████████| 10/10 [01:42<00:00, 10.26s/it]\n"
     ]
    },
    {
     "name": "stdout",
     "output_type": "stream",
     "text": [
      "acc: 96.40625\n",
      "loss: 0.4763460695743561\n",
      "sparsity: 0.040934145459109283\n",
      "pruning...\n",
      "validating...\n"
     ]
    },
    {
     "name": "stderr",
     "output_type": "stream",
     "text": [
      "100%|██████████| 10/10 [02:02<00:00, 12.27s/it]\n"
     ]
    },
    {
     "name": "stdout",
     "output_type": "stream",
     "text": [
      "acc: 95.0\n",
      "loss: 0.5231839686632156\n",
      "sparsity: 0.04118774132268553\n",
      "pruning...\n",
      "validating...\n"
     ]
    },
    {
     "name": "stderr",
     "output_type": "stream",
     "text": [
      "100%|██████████| 10/10 [01:49<00:00, 10.97s/it]\n"
     ]
    },
    {
     "name": "stdout",
     "output_type": "stream",
     "text": [
      "acc: 94.84375\n",
      "loss: 0.1763791933655739\n",
      "sparsity: 0.04279130719495057\n",
      "pruning...\n",
      "validating...\n"
     ]
    },
    {
     "name": "stderr",
     "output_type": "stream",
     "text": [
      "100%|██████████| 10/10 [01:41<00:00, 10.14s/it]\n"
     ]
    },
    {
     "name": "stdout",
     "output_type": "stream",
     "text": [
      "acc: 96.09375\n",
      "loss: 0.5183664917945862\n",
      "sparsity: 0.02802819274863182\n",
      "pruning...\n",
      "validating...\n"
     ]
    },
    {
     "name": "stderr",
     "output_type": "stream",
     "text": [
      "100%|██████████| 10/10 [02:24<00:00, 14.45s/it]\n"
     ]
    },
    {
     "name": "stdout",
     "output_type": "stream",
     "text": [
      "acc: 96.09375\n",
      "loss: 0.16358877643942832\n",
      "sparsity: 0.04091003968361857\n",
      "Training epoch: 6/15\n",
      "pruning...\n",
      "validating...\n"
     ]
    },
    {
     "name": "stderr",
     "output_type": "stream",
     "text": [
      "100%|██████████| 10/10 [01:45<00:00, 10.57s/it]\n"
     ]
    },
    {
     "name": "stdout",
     "output_type": "stream",
     "text": [
      "acc: 55.78125000000001\n",
      "loss: 1.3487015604972838\n",
      "sparsity: 0.027035127960831663\n",
      "pruning...\n",
      "validating...\n"
     ]
    },
    {
     "name": "stderr",
     "output_type": "stream",
     "text": [
      "100%|██████████| 10/10 [01:54<00:00, 11.47s/it]\n"
     ]
    },
    {
     "name": "stdout",
     "output_type": "stream",
     "text": [
      "acc: 96.25\n",
      "loss: 0.14956373646855353\n",
      "sparsity: 0.0435675286928212\n",
      "pruning...\n",
      "validating...\n"
     ]
    },
    {
     "name": "stderr",
     "output_type": "stream",
     "text": [
      "100%|██████████| 10/10 [02:15<00:00, 13.59s/it]\n"
     ]
    },
    {
     "name": "stdout",
     "output_type": "stream",
     "text": [
      "acc: 97.34375\n",
      "loss: 0.1432832323014736\n",
      "sparsity: 0.06152031469395067\n",
      "pruning...\n",
      "validating...\n"
     ]
    },
    {
     "name": "stderr",
     "output_type": "stream",
     "text": [
      "100%|██████████| 10/10 [02:06<00:00, 12.63s/it]\n"
     ]
    },
    {
     "name": "stdout",
     "output_type": "stream",
     "text": [
      "acc: 96.71875\n",
      "loss: 0.14010875523090363\n",
      "sparsity: 0.07582395209787246\n",
      "pruning...\n",
      "validating...\n"
     ]
    },
    {
     "name": "stderr",
     "output_type": "stream",
     "text": [
      "100%|██████████| 10/10 [01:40<00:00, 10.01s/it]\n"
     ]
    },
    {
     "name": "stdout",
     "output_type": "stream",
     "text": [
      "acc: 96.25\n",
      "loss: 0.529116865992546\n",
      "sparsity: 0.034280089671311034\n",
      "pruning...\n",
      "validating...\n"
     ]
    },
    {
     "name": "stderr",
     "output_type": "stream",
     "text": [
      "100%|██████████| 10/10 [02:01<00:00, 12.12s/it]\n"
     ]
    },
    {
     "name": "stdout",
     "output_type": "stream",
     "text": [
      "acc: 95.3125\n",
      "loss: 0.17696399614214897\n",
      "sparsity: 0.04066644325283847\n",
      "pruning...\n",
      "validating...\n"
     ]
    },
    {
     "name": "stderr",
     "output_type": "stream",
     "text": [
      "100%|██████████| 10/10 [01:33<00:00,  9.35s/it]\n"
     ]
    },
    {
     "name": "stdout",
     "output_type": "stream",
     "text": [
      "acc: 97.5\n",
      "loss: 0.11870617717504502\n",
      "sparsity: 0.053331431370826125\n",
      "pruning...\n",
      "validating...\n"
     ]
    },
    {
     "name": "stderr",
     "output_type": "stream",
     "text": [
      "100%|██████████| 10/10 [02:02<00:00, 12.20s/it]\n"
     ]
    },
    {
     "name": "stdout",
     "output_type": "stream",
     "text": [
      "acc: 97.03125\n",
      "loss: 0.12355944514274597\n",
      "sparsity: 0.060046198000600993\n",
      "pruning...\n",
      "validating...\n"
     ]
    },
    {
     "name": "stderr",
     "output_type": "stream",
     "text": [
      "100%|██████████| 10/10 [01:48<00:00, 10.82s/it]\n"
     ]
    },
    {
     "name": "stdout",
     "output_type": "stream",
     "text": [
      "acc: 42.1875\n",
      "loss: 2.1578423023223876\n",
      "sparsity: 0.0578563066911748\n",
      "pruning...\n",
      "validating...\n"
     ]
    },
    {
     "name": "stderr",
     "output_type": "stream",
     "text": [
      "100%|██████████| 10/10 [01:50<00:00, 11.06s/it]\n"
     ]
    },
    {
     "name": "stdout",
     "output_type": "stream",
     "text": [
      "acc: 97.1875\n",
      "loss: 0.133197433128953\n",
      "sparsity: 0.040170221400329574\n",
      "Training epoch: 7/15\n",
      "pruning...\n",
      "validating...\n"
     ]
    },
    {
     "name": "stderr",
     "output_type": "stream",
     "text": [
      "100%|██████████| 10/10 [02:35<00:00, 15.51s/it]\n"
     ]
    },
    {
     "name": "stdout",
     "output_type": "stream",
     "text": [
      "acc: 9.375\n",
      "loss: 2.305144119262695\n",
      "sparsity: 0.050725655266790536\n",
      "pruning...\n",
      "validating...\n"
     ]
    },
    {
     "name": "stderr",
     "output_type": "stream",
     "text": [
      "100%|██████████| 10/10 [02:07<00:00, 12.72s/it]\n"
     ]
    },
    {
     "name": "stdout",
     "output_type": "stream",
     "text": [
      "acc: 96.875\n",
      "loss: 0.46541047692298887\n",
      "sparsity: 0.054776745350143416\n",
      "pruning...\n",
      "validating...\n"
     ]
    },
    {
     "name": "stderr",
     "output_type": "stream",
     "text": [
      "100%|██████████| 10/10 [01:54<00:00, 11.48s/it]\n"
     ]
    },
    {
     "name": "stdout",
     "output_type": "stream",
     "text": [
      "acc: 97.5\n",
      "loss: 0.13901609405875207\n",
      "sparsity: 0.039889538563907236\n",
      "pruning...\n",
      "validating...\n"
     ]
    },
    {
     "name": "stderr",
     "output_type": "stream",
     "text": [
      "100%|██████████| 10/10 [01:54<00:00, 11.48s/it]\n"
     ]
    },
    {
     "name": "stdout",
     "output_type": "stream",
     "text": [
      "acc: 96.71875\n",
      "loss: 0.13567156344652176\n",
      "sparsity: 0.047217065466767856\n",
      "pruning...\n",
      "validating...\n"
     ]
    },
    {
     "name": "stderr",
     "output_type": "stream",
     "text": [
      "100%|██████████| 10/10 [01:52<00:00, 11.20s/it]\n"
     ]
    },
    {
     "name": "stdout",
     "output_type": "stream",
     "text": [
      "acc: 97.1875\n",
      "loss: 0.13890060782432556\n",
      "sparsity: 0.02964931973656836\n",
      "pruning...\n",
      "validating...\n"
     ]
    },
    {
     "name": "stderr",
     "output_type": "stream",
     "text": [
      "100%|██████████| 10/10 [02:17<00:00, 13.77s/it]\n"
     ]
    },
    {
     "name": "stdout",
     "output_type": "stream",
     "text": [
      "acc: 96.25\n",
      "loss: 0.15191337764263152\n",
      "sparsity: 0.045035481139555855\n",
      "pruning...\n",
      "validating...\n"
     ]
    },
    {
     "name": "stderr",
     "output_type": "stream",
     "text": [
      "100%|██████████| 10/10 [02:23<00:00, 14.32s/it]\n"
     ]
    },
    {
     "name": "stdout",
     "output_type": "stream",
     "text": [
      "acc: 96.40625\n",
      "loss: 0.13801976069808006\n",
      "sparsity: 0.05115469925285139\n",
      "pruning...\n",
      "validating...\n"
     ]
    },
    {
     "name": "stderr",
     "output_type": "stream",
     "text": [
      "100%|██████████| 10/10 [01:54<00:00, 11.47s/it]\n"
     ]
    },
    {
     "name": "stdout",
     "output_type": "stream",
     "text": [
      "acc: 97.03125\n",
      "loss: 0.1349647454917431\n",
      "sparsity: 0.05629857672824863\n",
      "pruning...\n",
      "validating...\n"
     ]
    },
    {
     "name": "stderr",
     "output_type": "stream",
     "text": [
      "100%|██████████| 10/10 [02:06<00:00, 12.62s/it]\n"
     ]
    },
    {
     "name": "stdout",
     "output_type": "stream",
     "text": [
      "acc: 96.875\n",
      "loss: 0.12248541936278343\n",
      "sparsity: 0.03498688964118231\n",
      "pruning...\n",
      "validating...\n"
     ]
    },
    {
     "name": "stderr",
     "output_type": "stream",
     "text": [
      "100%|██████████| 10/10 [01:48<00:00, 10.81s/it]\n"
     ]
    },
    {
     "name": "stdout",
     "output_type": "stream",
     "text": [
      "acc: 95.78125\n",
      "loss: 0.15952333807945251\n",
      "sparsity: 0.044006214989078335\n",
      "Training epoch: 8/15\n",
      "pruning...\n",
      "validating...\n"
     ]
    },
    {
     "name": "stderr",
     "output_type": "stream",
     "text": [
      "100%|██████████| 10/10 [02:26<00:00, 14.65s/it]\n"
     ]
    },
    {
     "name": "stdout",
     "output_type": "stream",
     "text": [
      "acc: 97.03125\n",
      "loss: 0.14122529029846193\n",
      "sparsity: 0.0457950886729981\n",
      "pruning...\n",
      "validating...\n"
     ]
    },
    {
     "name": "stderr",
     "output_type": "stream",
     "text": [
      "100%|██████████| 10/10 [01:52<00:00, 11.22s/it]\n"
     ]
    },
    {
     "name": "stdout",
     "output_type": "stream",
     "text": [
      "acc: 97.1875\n",
      "loss: 0.13598771542310714\n",
      "sparsity: 0.03856122881725358\n",
      "pruning...\n",
      "validating...\n"
     ]
    },
    {
     "name": "stderr",
     "output_type": "stream",
     "text": [
      "100%|██████████| 10/10 [01:36<00:00,  9.63s/it]\n"
     ]
    },
    {
     "name": "stdout",
     "output_type": "stream",
     "text": [
      "acc: 95.0\n",
      "loss: 0.5192388117313385\n",
      "sparsity: 0.050352392278121244\n",
      "pruning...\n",
      "validating...\n"
     ]
    },
    {
     "name": "stderr",
     "output_type": "stream",
     "text": [
      "100%|██████████| 10/10 [02:06<00:00, 12.68s/it]\n"
     ]
    },
    {
     "name": "stdout",
     "output_type": "stream",
     "text": [
      "acc: 96.875\n",
      "loss: 0.1441256433725357\n",
      "sparsity: 0.03811996502744961\n",
      "pruning...\n",
      "validating...\n"
     ]
    },
    {
     "name": "stderr",
     "output_type": "stream",
     "text": [
      "100%|██████████| 10/10 [01:53<00:00, 11.38s/it]\n"
     ]
    },
    {
     "name": "stdout",
     "output_type": "stream",
     "text": [
      "acc: 97.34375\n",
      "loss: 0.13776271417737007\n",
      "sparsity: 0.04981102547086887\n",
      "pruning...\n",
      "validating...\n"
     ]
    },
    {
     "name": "stderr",
     "output_type": "stream",
     "text": [
      "100%|██████████| 10/10 [01:52<00:00, 11.28s/it]\n"
     ]
    },
    {
     "name": "stdout",
     "output_type": "stream",
     "text": [
      "acc: 96.875\n",
      "loss: 0.14401945173740388\n",
      "sparsity: 0.05787826973106634\n",
      "pruning...\n",
      "validating...\n"
     ]
    },
    {
     "name": "stderr",
     "output_type": "stream",
     "text": [
      "100%|██████████| 10/10 [01:59<00:00, 11.94s/it]\n"
     ]
    },
    {
     "name": "stdout",
     "output_type": "stream",
     "text": [
      "acc: 96.40625\n",
      "loss: 0.14750033915042876\n",
      "sparsity: 0.03333590409848336\n",
      "pruning...\n",
      "validating...\n"
     ]
    },
    {
     "name": "stderr",
     "output_type": "stream",
     "text": [
      "100%|██████████| 10/10 [01:54<00:00, 11.43s/it]\n"
     ]
    },
    {
     "name": "stdout",
     "output_type": "stream",
     "text": [
      "acc: 95.78125\n",
      "loss: 0.17252446860074996\n",
      "sparsity: 0.045453493142694874\n",
      "pruning...\n",
      "validating...\n"
     ]
    },
    {
     "name": "stderr",
     "output_type": "stream",
     "text": [
      "100%|██████████| 10/10 [02:13<00:00, 13.34s/it]\n"
     ]
    },
    {
     "name": "stdout",
     "output_type": "stream",
     "text": [
      "acc: 95.625\n",
      "loss: 0.14554860442876816\n",
      "sparsity: 0.04112653361448302\n",
      "pruning...\n",
      "validating...\n"
     ]
    },
    {
     "name": "stderr",
     "output_type": "stream",
     "text": [
      "100%|██████████| 10/10 [02:04<00:00, 12.47s/it]\n"
     ]
    },
    {
     "name": "stdout",
     "output_type": "stream",
     "text": [
      "acc: 97.5\n",
      "loss: 0.11282428689301013\n",
      "sparsity: 0.041588122338340035\n",
      "Training epoch: 9/15\n",
      "pruning...\n",
      "validating...\n"
     ]
    },
    {
     "name": "stderr",
     "output_type": "stream",
     "text": [
      "100%|██████████| 10/10 [02:02<00:00, 12.26s/it]\n"
     ]
    },
    {
     "name": "stdout",
     "output_type": "stream",
     "text": [
      "acc: 93.125\n",
      "loss: 0.33437245339155197\n",
      "sparsity: 0.03902460315410991\n",
      "pruning...\n",
      "validating...\n"
     ]
    },
    {
     "name": "stderr",
     "output_type": "stream",
     "text": [
      "100%|██████████| 10/10 [01:57<00:00, 11.73s/it]\n"
     ]
    },
    {
     "name": "stdout",
     "output_type": "stream",
     "text": [
      "acc: 57.8125\n",
      "loss: 1.270615541934967\n",
      "sparsity: 0.033097090005127505\n",
      "pruning...\n",
      "validating...\n"
     ]
    },
    {
     "name": "stderr",
     "output_type": "stream",
     "text": [
      "100%|██████████| 10/10 [01:59<00:00, 11.95s/it]\n"
     ]
    },
    {
     "name": "stdout",
     "output_type": "stream",
     "text": [
      "acc: 96.875\n",
      "loss: 0.1475493136793375\n",
      "sparsity: 0.04251168796279304\n",
      "pruning...\n",
      "validating...\n"
     ]
    },
    {
     "name": "stderr",
     "output_type": "stream",
     "text": [
      "100%|██████████| 10/10 [02:17<00:00, 13.75s/it]\n"
     ]
    },
    {
     "name": "stdout",
     "output_type": "stream",
     "text": [
      "acc: 57.65625\n",
      "loss: 1.3161888480186463\n",
      "sparsity: 0.04659269094565179\n",
      "pruning...\n",
      "validating...\n"
     ]
    },
    {
     "name": "stderr",
     "output_type": "stream",
     "text": [
      "100%|██████████| 10/10 [01:59<00:00, 11.93s/it]\n"
     ]
    },
    {
     "name": "stdout",
     "output_type": "stream",
     "text": [
      "acc: 97.5\n",
      "loss: 0.12795196175575257\n",
      "sparsity: 0.041106558039495054\n",
      "pruning...\n",
      "validating...\n"
     ]
    },
    {
     "name": "stderr",
     "output_type": "stream",
     "text": [
      "100%|██████████| 10/10 [01:49<00:00, 10.92s/it]\n"
     ]
    },
    {
     "name": "stdout",
     "output_type": "stream",
     "text": [
      "acc: 95.15625\n",
      "loss: 0.17944704815745355\n",
      "sparsity: 0.04185277347544246\n",
      "pruning...\n",
      "validating...\n"
     ]
    },
    {
     "name": "stderr",
     "output_type": "stream",
     "text": [
      "100%|██████████| 10/10 [01:53<00:00, 11.34s/it]\n"
     ]
    },
    {
     "name": "stdout",
     "output_type": "stream",
     "text": [
      "acc: 97.1875\n",
      "loss: 0.1387293554842472\n",
      "sparsity: 0.04245809628220933\n",
      "pruning...\n",
      "validating...\n"
     ]
    },
    {
     "name": "stderr",
     "output_type": "stream",
     "text": [
      "100%|██████████| 10/10 [01:57<00:00, 11.74s/it]\n"
     ]
    },
    {
     "name": "stdout",
     "output_type": "stream",
     "text": [
      "acc: 96.5625\n",
      "loss: 0.15154840424656868\n",
      "sparsity: 0.04923257225797425\n",
      "pruning...\n",
      "validating...\n"
     ]
    },
    {
     "name": "stderr",
     "output_type": "stream",
     "text": [
      "100%|██████████| 10/10 [02:15<00:00, 13.60s/it]\n"
     ]
    },
    {
     "name": "stdout",
     "output_type": "stream",
     "text": [
      "acc: 59.84374999999999\n",
      "loss: 1.228877317905426\n",
      "sparsity: 0.04726668998107918\n",
      "pruning...\n",
      "validating...\n"
     ]
    },
    {
     "name": "stderr",
     "output_type": "stream",
     "text": [
      "100%|██████████| 10/10 [02:02<00:00, 12.23s/it]\n"
     ]
    },
    {
     "name": "stdout",
     "output_type": "stream",
     "text": [
      "acc: 96.5625\n",
      "loss: 0.13855825439095498\n",
      "sparsity: 0.03835068175403032\n",
      "Training epoch: 10/15\n",
      "pruning...\n",
      "validating...\n"
     ]
    },
    {
     "name": "stderr",
     "output_type": "stream",
     "text": [
      "100%|██████████| 10/10 [01:55<00:00, 11.51s/it]\n"
     ]
    },
    {
     "name": "stdout",
     "output_type": "stream",
     "text": [
      "acc: 61.40624999999999\n",
      "loss: 1.2292934656143188\n",
      "sparsity: 0.04019963743360955\n",
      "pruning...\n",
      "validating...\n"
     ]
    },
    {
     "name": "stderr",
     "output_type": "stream",
     "text": [
      "100%|██████████| 10/10 [02:26<00:00, 14.60s/it]\n"
     ]
    },
    {
     "name": "stdout",
     "output_type": "stream",
     "text": [
      "acc: 57.1875\n",
      "loss: 1.280620539188385\n",
      "sparsity: 0.039233030772338334\n",
      "pruning...\n",
      "validating...\n"
     ]
    },
    {
     "name": "stderr",
     "output_type": "stream",
     "text": [
      "100%|██████████| 10/10 [02:12<00:00, 13.25s/it]\n"
     ]
    },
    {
     "name": "stdout",
     "output_type": "stream",
     "text": [
      "acc: 96.5625\n",
      "loss: 0.14473603367805482\n",
      "sparsity: 0.042835155639385857\n",
      "pruning...\n",
      "validating...\n"
     ]
    },
    {
     "name": "stderr",
     "output_type": "stream",
     "text": [
      "100%|██████████| 10/10 [01:47<00:00, 10.75s/it]\n"
     ]
    },
    {
     "name": "stdout",
     "output_type": "stream",
     "text": [
      "acc: 95.0\n",
      "loss: 0.22053345739841462\n",
      "sparsity: 0.04092436340528696\n",
      "pruning...\n",
      "validating...\n"
     ]
    },
    {
     "name": "stderr",
     "output_type": "stream",
     "text": [
      "100%|██████████| 10/10 [01:57<00:00, 11.77s/it]\n"
     ]
    },
    {
     "name": "stdout",
     "output_type": "stream",
     "text": [
      "acc: 57.1875\n",
      "loss: 1.3190287709236146\n",
      "sparsity: 0.04084924344275937\n",
      "pruning...\n",
      "validating...\n"
     ]
    },
    {
     "name": "stderr",
     "output_type": "stream",
     "text": [
      "100%|██████████| 10/10 [02:12<00:00, 13.23s/it]\n"
     ]
    },
    {
     "name": "stdout",
     "output_type": "stream",
     "text": [
      "acc: 97.5\n",
      "loss: 0.13274950459599494\n",
      "sparsity: 0.0451287134287243\n",
      "pruning...\n",
      "validating...\n"
     ]
    },
    {
     "name": "stderr",
     "output_type": "stream",
     "text": [
      "100%|██████████| 10/10 [01:52<00:00, 11.26s/it]\n"
     ]
    },
    {
     "name": "stdout",
     "output_type": "stream",
     "text": [
      "acc: 93.4375\n",
      "loss: 0.34258643090724944\n",
      "sparsity: 0.03613483694783586\n",
      "pruning...\n",
      "validating...\n"
     ]
    },
    {
     "name": "stderr",
     "output_type": "stream",
     "text": [
      "100%|██████████| 10/10 [02:17<00:00, 13.77s/it]\n"
     ]
    },
    {
     "name": "stdout",
     "output_type": "stream",
     "text": [
      "acc: 95.78125\n",
      "loss: 0.15897808000445365\n",
      "sparsity: 0.045330200446859745\n",
      "pruning...\n",
      "validating...\n"
     ]
    },
    {
     "name": "stderr",
     "output_type": "stream",
     "text": [
      "100%|██████████| 10/10 [01:57<00:00, 11.77s/it]\n"
     ]
    },
    {
     "name": "stdout",
     "output_type": "stream",
     "text": [
      "acc: 96.25\n",
      "loss: 0.16016821786761284\n",
      "sparsity: 0.04620032966142464\n",
      "pruning...\n",
      "validating...\n"
     ]
    },
    {
     "name": "stderr",
     "output_type": "stream",
     "text": [
      "100%|██████████| 10/10 [01:59<00:00, 11.92s/it]\n"
     ]
    },
    {
     "name": "stdout",
     "output_type": "stream",
     "text": [
      "acc: 59.53125\n",
      "loss: 1.2790921449661254\n",
      "sparsity: 0.03742647951972538\n",
      "Training epoch: 11/15\n",
      "pruning...\n",
      "validating...\n"
     ]
    },
    {
     "name": "stderr",
     "output_type": "stream",
     "text": [
      "100%|██████████| 10/10 [02:01<00:00, 12.15s/it]\n"
     ]
    },
    {
     "name": "stdout",
     "output_type": "stream",
     "text": [
      "acc: 97.34375\n",
      "loss: 0.11548808962106705\n",
      "sparsity: 0.04406078487504428\n",
      "pruning...\n",
      "validating...\n"
     ]
    },
    {
     "name": "stderr",
     "output_type": "stream",
     "text": [
      "100%|██████████| 10/10 [01:59<00:00, 11.92s/it]\n"
     ]
    },
    {
     "name": "stdout",
     "output_type": "stream",
     "text": [
      "acc: 97.03125\n",
      "loss: 0.13415295258164406\n",
      "sparsity: 0.044584675965507733\n",
      "pruning...\n",
      "validating...\n"
     ]
    },
    {
     "name": "stderr",
     "output_type": "stream",
     "text": [
      "100%|██████████| 10/10 [02:08<00:00, 12.85s/it]\n"
     ]
    },
    {
     "name": "stdout",
     "output_type": "stream",
     "text": [
      "acc: 60.15625\n",
      "loss: 1.2772263526916503\n",
      "sparsity: 0.03902252252678897\n",
      "pruning...\n",
      "validating...\n"
     ]
    },
    {
     "name": "stderr",
     "output_type": "stream",
     "text": [
      "100%|██████████| 10/10 [02:00<00:00, 12.09s/it]\n"
     ]
    },
    {
     "name": "stdout",
     "output_type": "stream",
     "text": [
      "acc: 58.4375\n",
      "loss: 1.3030918717384339\n",
      "sparsity: 0.04087851196887853\n",
      "pruning...\n",
      "validating...\n"
     ]
    },
    {
     "name": "stderr",
     "output_type": "stream",
     "text": [
      "100%|██████████| 10/10 [01:57<00:00, 11.71s/it]\n"
     ]
    },
    {
     "name": "stdout",
     "output_type": "stream",
     "text": [
      "acc: 96.09375\n",
      "loss: 0.16495240703225136\n",
      "sparsity: 0.053531047377079685\n",
      "pruning...\n",
      "validating...\n"
     ]
    },
    {
     "name": "stderr",
     "output_type": "stream",
     "text": [
      "100%|██████████| 10/10 [02:11<00:00, 13.13s/it]\n"
     ]
    },
    {
     "name": "stdout",
     "output_type": "stream",
     "text": [
      "acc: 96.71875\n",
      "loss: 0.13552226945757867\n",
      "sparsity: 0.03874917623073337\n",
      "pruning...\n",
      "validating...\n"
     ]
    },
    {
     "name": "stderr",
     "output_type": "stream",
     "text": [
      "100%|██████████| 10/10 [01:59<00:00, 11.93s/it]\n"
     ]
    },
    {
     "name": "stdout",
     "output_type": "stream",
     "text": [
      "acc: 96.5625\n",
      "loss: 0.1444122616201639\n",
      "sparsity: 0.038163433058680696\n",
      "pruning...\n",
      "validating...\n"
     ]
    },
    {
     "name": "stderr",
     "output_type": "stream",
     "text": [
      "100%|██████████| 10/10 [01:52<00:00, 11.25s/it]\n"
     ]
    },
    {
     "name": "stdout",
     "output_type": "stream",
     "text": [
      "acc: 57.8125\n",
      "loss: 1.2891901731491089\n",
      "sparsity: 0.03946421331100582\n",
      "pruning...\n",
      "validating...\n"
     ]
    },
    {
     "name": "stderr",
     "output_type": "stream",
     "text": [
      "100%|██████████| 10/10 [02:02<00:00, 12.24s/it]\n"
     ]
    },
    {
     "name": "stdout",
     "output_type": "stream",
     "text": [
      "acc: 58.12500000000001\n",
      "loss: 1.2786888837814332\n",
      "sparsity: 0.04099689811073294\n",
      "pruning...\n",
      "validating...\n"
     ]
    },
    {
     "name": "stderr",
     "output_type": "stream",
     "text": [
      "100%|██████████| 10/10 [01:58<00:00, 11.84s/it]\n"
     ]
    },
    {
     "name": "stdout",
     "output_type": "stream",
     "text": [
      "acc: 96.09375\n",
      "loss: 0.1610369436442852\n",
      "sparsity: 0.043285363021255956\n",
      "Training epoch: 12/15\n",
      "pruning...\n",
      "validating...\n"
     ]
    },
    {
     "name": "stderr",
     "output_type": "stream",
     "text": [
      "100%|██████████| 10/10 [01:59<00:00, 11.96s/it]\n"
     ]
    },
    {
     "name": "stdout",
     "output_type": "stream",
     "text": [
      "acc: 96.5625\n",
      "loss: 0.13619683533906937\n",
      "sparsity: 0.043766360582062014\n",
      "pruning...\n",
      "validating...\n"
     ]
    },
    {
     "name": "stderr",
     "output_type": "stream",
     "text": [
      "100%|██████████| 10/10 [01:57<00:00, 11.73s/it]\n"
     ]
    },
    {
     "name": "stdout",
     "output_type": "stream",
     "text": [
      "acc: 96.25\n",
      "loss: 0.15777419209480287\n",
      "sparsity: 0.04202027950184751\n",
      "pruning...\n",
      "validating...\n"
     ]
    },
    {
     "name": "stderr",
     "output_type": "stream",
     "text": [
      "100%|██████████| 10/10 [01:55<00:00, 11.55s/it]\n"
     ]
    },
    {
     "name": "stdout",
     "output_type": "stream",
     "text": [
      "acc: 97.1875\n",
      "loss: 0.12287567630410194\n",
      "sparsity: 0.0384023791321278\n",
      "pruning...\n",
      "validating...\n"
     ]
    },
    {
     "name": "stderr",
     "output_type": "stream",
     "text": [
      "100%|██████████| 10/10 [02:05<00:00, 12.59s/it]\n"
     ]
    },
    {
     "name": "stdout",
     "output_type": "stream",
     "text": [
      "acc: 57.1875\n",
      "loss: 1.3113707065582276\n",
      "sparsity: 0.0368175777234251\n",
      "pruning...\n",
      "validating...\n"
     ]
    },
    {
     "name": "stderr",
     "output_type": "stream",
     "text": [
      "100%|██████████| 10/10 [02:01<00:00, 12.15s/it]\n"
     ]
    },
    {
     "name": "stdout",
     "output_type": "stream",
     "text": [
      "acc: 95.3125\n",
      "loss: 0.1687961533665657\n",
      "sparsity: 0.04416382250863938\n",
      "pruning...\n",
      "validating...\n"
     ]
    },
    {
     "name": "stderr",
     "output_type": "stream",
     "text": [
      "100%|██████████| 10/10 [02:11<00:00, 13.18s/it]\n"
     ]
    },
    {
     "name": "stdout",
     "output_type": "stream",
     "text": [
      "acc: 60.46875000000001\n",
      "loss: 1.280643606185913\n",
      "sparsity: 0.042908171683988174\n",
      "pruning...\n",
      "validating...\n"
     ]
    },
    {
     "name": "stderr",
     "output_type": "stream",
     "text": [
      "100%|██████████| 10/10 [02:02<00:00, 12.25s/it]\n"
     ]
    },
    {
     "name": "stdout",
     "output_type": "stream",
     "text": [
      "acc: 93.59375\n",
      "loss: 0.2762452527880669\n",
      "sparsity: 0.0385246548049068\n",
      "pruning...\n",
      "validating...\n"
     ]
    },
    {
     "name": "stderr",
     "output_type": "stream",
     "text": [
      "100%|██████████| 10/10 [02:07<00:00, 12.75s/it]\n"
     ]
    },
    {
     "name": "stdout",
     "output_type": "stream",
     "text": [
      "acc: 92.34375\n",
      "loss: 0.3709514856338501\n",
      "sparsity: 0.043179258791422905\n",
      "pruning...\n",
      "validating...\n"
     ]
    },
    {
     "name": "stderr",
     "output_type": "stream",
     "text": [
      "100%|██████████| 10/10 [02:02<00:00, 12.24s/it]\n"
     ]
    },
    {
     "name": "stdout",
     "output_type": "stream",
     "text": [
      "acc: 97.03125\n",
      "loss: 0.13298458456993104\n",
      "sparsity: 0.04571780268426699\n",
      "pruning...\n",
      "validating...\n"
     ]
    },
    {
     "name": "stderr",
     "output_type": "stream",
     "text": [
      "100%|██████████| 10/10 [01:57<00:00, 11.77s/it]\n"
     ]
    },
    {
     "name": "stdout",
     "output_type": "stream",
     "text": [
      "acc: 91.5625\n",
      "loss: 0.3853970646858215\n",
      "sparsity: 0.03859809008038721\n",
      "Training epoch: 13/15\n",
      "pruning...\n",
      "validating...\n"
     ]
    },
    {
     "name": "stderr",
     "output_type": "stream",
     "text": [
      "100%|██████████| 10/10 [02:01<00:00, 12.17s/it]\n"
     ]
    },
    {
     "name": "stdout",
     "output_type": "stream",
     "text": [
      "acc: 61.5625\n",
      "loss: 1.2443463444709777\n",
      "sparsity: 0.041295825253887385\n",
      "pruning...\n",
      "validating...\n"
     ]
    },
    {
     "name": "stderr",
     "output_type": "stream",
     "text": [
      "100%|██████████| 10/10 [01:58<00:00, 11.84s/it]\n"
     ]
    },
    {
     "name": "stdout",
     "output_type": "stream",
     "text": [
      "acc: 63.125\n",
      "loss: 1.1939782500267029\n",
      "sparsity: 0.03905737303441468\n",
      "pruning...\n",
      "validating...\n"
     ]
    },
    {
     "name": "stderr",
     "output_type": "stream",
     "text": [
      "100%|██████████| 10/10 [02:06<00:00, 12.68s/it]\n"
     ]
    },
    {
     "name": "stdout",
     "output_type": "stream",
     "text": [
      "acc: 96.875\n",
      "loss: 0.13704071715474128\n",
      "sparsity: 0.048756721920727074\n",
      "pruning...\n",
      "validating...\n"
     ]
    },
    {
     "name": "stderr",
     "output_type": "stream",
     "text": [
      "100%|██████████| 10/10 [01:55<00:00, 11.56s/it]\n"
     ]
    },
    {
     "name": "stdout",
     "output_type": "stream",
     "text": [
      "acc: 96.25\n",
      "loss: 0.16020328626036645\n",
      "sparsity: 0.03937574783219207\n",
      "pruning...\n",
      "validating...\n"
     ]
    },
    {
     "name": "stderr",
     "output_type": "stream",
     "text": [
      "100%|██████████| 10/10 [01:55<00:00, 11.55s/it]\n"
     ]
    },
    {
     "name": "stdout",
     "output_type": "stream",
     "text": [
      "acc: 95.3125\n",
      "loss: 0.15201931446790695\n",
      "sparsity: 0.043561511953366994\n",
      "pruning...\n",
      "validating...\n"
     ]
    },
    {
     "name": "stderr",
     "output_type": "stream",
     "text": [
      "100%|██████████| 10/10 [01:52<00:00, 11.27s/it]\n"
     ]
    },
    {
     "name": "stdout",
     "output_type": "stream",
     "text": [
      "acc: 93.90625\n",
      "loss: 0.313295291364193\n",
      "sparsity: 0.03833010838686433\n",
      "pruning...\n",
      "validating...\n"
     ]
    },
    {
     "name": "stderr",
     "output_type": "stream",
     "text": [
      "100%|██████████| 10/10 [01:49<00:00, 10.94s/it]\n"
     ]
    },
    {
     "name": "stdout",
     "output_type": "stream",
     "text": [
      "acc: 97.1875\n",
      "loss: 0.13525211289525033\n",
      "sparsity: 0.043085125932220025\n",
      "pruning...\n",
      "validating...\n"
     ]
    },
    {
     "name": "stderr",
     "output_type": "stream",
     "text": [
      "100%|██████████| 10/10 [01:56<00:00, 11.60s/it]\n"
     ]
    },
    {
     "name": "stdout",
     "output_type": "stream",
     "text": [
      "acc: 96.71875\n",
      "loss: 0.15033557936549186\n",
      "sparsity: 0.044635286448736065\n",
      "pruning...\n",
      "validating...\n"
     ]
    },
    {
     "name": "stderr",
     "output_type": "stream",
     "text": [
      "100%|██████████| 10/10 [02:06<00:00, 12.60s/it]\n"
     ]
    },
    {
     "name": "stdout",
     "output_type": "stream",
     "text": [
      "acc: 96.875\n",
      "loss: 0.1566882960498333\n",
      "sparsity: 0.04185399235040286\n",
      "pruning...\n",
      "validating...\n"
     ]
    },
    {
     "name": "stderr",
     "output_type": "stream",
     "text": [
      "100%|██████████| 10/10 [02:05<00:00, 12.55s/it]\n"
     ]
    },
    {
     "name": "stdout",
     "output_type": "stream",
     "text": [
      "acc: 97.1875\n",
      "loss: 0.13937080129981042\n",
      "sparsity: 0.041932590376511716\n",
      "Training epoch: 14/15\n",
      "pruning...\n",
      "validating...\n"
     ]
    },
    {
     "name": "stderr",
     "output_type": "stream",
     "text": [
      "100%|██████████| 10/10 [01:58<00:00, 11.84s/it]\n"
     ]
    },
    {
     "name": "stdout",
     "output_type": "stream",
     "text": [
      "acc: 64.21875\n",
      "loss: 1.180974304676056\n",
      "sparsity: 0.04074692781789878\n",
      "pruning...\n",
      "validating...\n"
     ]
    },
    {
     "name": "stderr",
     "output_type": "stream",
     "text": [
      "100%|██████████| 10/10 [01:58<00:00, 11.80s/it]\n"
     ]
    },
    {
     "name": "stdout",
     "output_type": "stream",
     "text": [
      "acc: 95.9375\n",
      "loss: 0.1607808344066143\n",
      "sparsity: 0.043396653292321785\n",
      "pruning...\n",
      "validating...\n"
     ]
    },
    {
     "name": "stderr",
     "output_type": "stream",
     "text": [
      "100%|██████████| 10/10 [01:58<00:00, 11.81s/it]\n"
     ]
    },
    {
     "name": "stdout",
     "output_type": "stream",
     "text": [
      "acc: 91.71875\n",
      "loss: 0.34506024718284606\n",
      "sparsity: 0.03955027985757267\n",
      "pruning...\n",
      "validating...\n"
     ]
    },
    {
     "name": "stderr",
     "output_type": "stream",
     "text": [
      "100%|██████████| 10/10 [01:54<00:00, 11.49s/it]\n"
     ]
    },
    {
     "name": "stdout",
     "output_type": "stream",
     "text": [
      "acc: 97.03125\n",
      "loss: 0.13217227831482886\n",
      "sparsity: 0.041671774425590426\n",
      "pruning...\n",
      "validating...\n"
     ]
    },
    {
     "name": "stderr",
     "output_type": "stream",
     "text": [
      "100%|██████████| 10/10 [01:54<00:00, 11.48s/it]\n"
     ]
    },
    {
     "name": "stdout",
     "output_type": "stream",
     "text": [
      "acc: 61.25000000000001\n",
      "loss: 1.2199033737182616\n",
      "sparsity: 0.041831377173589826\n",
      "pruning...\n",
      "validating...\n"
     ]
    },
    {
     "name": "stderr",
     "output_type": "stream",
     "text": [
      "100%|██████████| 10/10 [01:55<00:00, 11.52s/it]\n"
     ]
    },
    {
     "name": "stdout",
     "output_type": "stream",
     "text": [
      "acc: 94.21875\n",
      "loss: 0.2620584547519684\n",
      "sparsity: 0.04157653914444884\n",
      "pruning...\n",
      "validating...\n"
     ]
    },
    {
     "name": "stderr",
     "output_type": "stream",
     "text": [
      "100%|██████████| 10/10 [01:56<00:00, 11.67s/it]\n"
     ]
    },
    {
     "name": "stdout",
     "output_type": "stream",
     "text": [
      "acc: 56.40625\n",
      "loss: 1.3183871150016784\n",
      "sparsity: 0.03924051481986589\n",
      "pruning...\n",
      "validating...\n"
     ]
    },
    {
     "name": "stderr",
     "output_type": "stream",
     "text": [
      "100%|██████████| 10/10 [02:01<00:00, 12.18s/it]\n"
     ]
    },
    {
     "name": "stdout",
     "output_type": "stream",
     "text": [
      "acc: 95.46875\n",
      "loss: 0.1720108523964882\n",
      "sparsity: 0.041361434886309945\n",
      "pruning...\n",
      "validating...\n"
     ]
    },
    {
     "name": "stderr",
     "output_type": "stream",
     "text": [
      "100%|██████████| 10/10 [02:00<00:00, 12.09s/it]\n"
     ]
    },
    {
     "name": "stdout",
     "output_type": "stream",
     "text": [
      "acc: 93.28125\n",
      "loss: 0.2591145597398281\n",
      "sparsity: 0.04247078966157401\n",
      "pruning...\n",
      "validating...\n"
     ]
    },
    {
     "name": "stderr",
     "output_type": "stream",
     "text": [
      "100%|██████████| 10/10 [01:54<00:00, 11.47s/it]\n"
     ]
    },
    {
     "name": "stdout",
     "output_type": "stream",
     "text": [
      "acc: 95.46875\n",
      "loss: 0.17423443123698235\n",
      "sparsity: 0.039332039131382814\n",
      "Training epoch: 15/15\n",
      "pruning...\n",
      "validating...\n"
     ]
    },
    {
     "name": "stderr",
     "output_type": "stream",
     "text": [
      "100%|██████████| 10/10 [02:04<00:00, 12.42s/it]\n"
     ]
    },
    {
     "name": "stdout",
     "output_type": "stream",
     "text": [
      "acc: 96.09375\n",
      "loss: 0.1695999786257744\n",
      "sparsity: 0.04324100218352521\n",
      "pruning...\n",
      "validating...\n"
     ]
    },
    {
     "name": "stderr",
     "output_type": "stream",
     "text": [
      "100%|██████████| 10/10 [01:57<00:00, 11.71s/it]\n"
     ]
    },
    {
     "name": "stdout",
     "output_type": "stream",
     "text": [
      "acc: 97.03125\n",
      "loss: 0.14922207370400428\n",
      "sparsity: 0.04317154183785196\n",
      "pruning...\n",
      "validating...\n"
     ]
    },
    {
     "name": "stderr",
     "output_type": "stream",
     "text": [
      "100%|██████████| 10/10 [01:59<00:00, 11.98s/it]\n"
     ]
    },
    {
     "name": "stdout",
     "output_type": "stream",
     "text": [
      "acc: 58.59375\n",
      "loss: 1.2727245092391968\n",
      "sparsity: 0.039207325708683016\n",
      "pruning...\n",
      "validating...\n"
     ]
    },
    {
     "name": "stderr",
     "output_type": "stream",
     "text": [
      "100%|██████████| 10/10 [01:59<00:00, 11.92s/it]\n"
     ]
    },
    {
     "name": "stdout",
     "output_type": "stream",
     "text": [
      "acc: 58.4375\n",
      "loss: 1.2797643780708312\n",
      "sparsity: 0.03975323418378147\n",
      "pruning...\n",
      "validating...\n"
     ]
    },
    {
     "name": "stderr",
     "output_type": "stream",
     "text": [
      "100%|██████████| 10/10 [01:59<00:00, 11.94s/it]\n"
     ]
    },
    {
     "name": "stdout",
     "output_type": "stream",
     "text": [
      "acc: 96.09375\n",
      "loss: 0.15264068692922592\n",
      "sparsity: 0.03990775181650022\n",
      "pruning...\n",
      "validating...\n"
     ]
    },
    {
     "name": "stderr",
     "output_type": "stream",
     "text": [
      "100%|██████████| 10/10 [01:56<00:00, 11.68s/it]\n"
     ]
    },
    {
     "name": "stdout",
     "output_type": "stream",
     "text": [
      "acc: 95.0\n",
      "loss: 0.17245618030428886\n",
      "sparsity: 0.04375122168924176\n",
      "pruning...\n",
      "validating...\n"
     ]
    },
    {
     "name": "stderr",
     "output_type": "stream",
     "text": [
      "100%|██████████| 10/10 [01:56<00:00, 11.69s/it]\n"
     ]
    },
    {
     "name": "stdout",
     "output_type": "stream",
     "text": [
      "acc: 58.90625000000001\n",
      "loss: 1.290816068649292\n",
      "sparsity: 0.04014774596714258\n",
      "pruning...\n",
      "validating...\n"
     ]
    },
    {
     "name": "stderr",
     "output_type": "stream",
     "text": [
      "100%|██████████| 10/10 [02:03<00:00, 12.32s/it]\n"
     ]
    },
    {
     "name": "stdout",
     "output_type": "stream",
     "text": [
      "acc: 92.96875\n",
      "loss: 0.33867334127426146\n",
      "sparsity: 0.04044036912005597\n",
      "pruning...\n",
      "validating...\n"
     ]
    },
    {
     "name": "stderr",
     "output_type": "stream",
     "text": [
      "100%|██████████| 10/10 [01:59<00:00, 11.94s/it]\n"
     ]
    },
    {
     "name": "stdout",
     "output_type": "stream",
     "text": [
      "acc: 91.875\n",
      "loss: 0.3538104981184006\n",
      "sparsity: 0.038982058983517594\n",
      "pruning...\n",
      "validating...\n"
     ]
    },
    {
     "name": "stderr",
     "output_type": "stream",
     "text": [
      "100%|██████████| 10/10 [01:57<00:00, 11.79s/it]"
     ]
    },
    {
     "name": "stdout",
     "output_type": "stream",
     "text": [
      "acc: 95.3125\n",
      "loss: 0.17356986552476883\n",
      "sparsity: 0.0420377319280321\n",
      "[array([0.45210887, 0.4699181 , 0.54909434, 0.35497807, 0.45706187,\n",
      "       0.3451076 , 0.65852452, 0.64172489, 0.89898188, 0.34285595]), array([0.45210887, 0.4699181 , 0.54909434, 0.35497807, 0.45706187,\n",
      "       0.3451076 , 0.65852452, 0.64172489, 0.89898188, 0.34285595]), array([0.52568796, 0.45115215, 0.56021952, 0.39978734, 0.38876526,\n",
      "       0.37359675, 0.68819804, 0.85905613, 0.86675518, 0.21889293]), array([0.63088067, 0.49128949, 0.57790242, 0.43941102, 0.61983007,\n",
      "       0.39355106, 0.62799081, 0.92148871, 0.82812447, 0.22407927]), array([0.63088067, 0.49128949, 0.57790242, 0.43941102, 0.61983007,\n",
      "       0.39355106, 0.62799081, 0.92148871, 0.82812447, 0.22407927]), array([0.63088067, 0.49128949, 0.57790242, 0.43941102, 0.61983007,\n",
      "       0.39355106, 0.62799081, 0.92148871, 0.82812447, 0.22407927]), array([0.63088067, 0.49128949, 0.57790242, 0.43941102, 0.61983007,\n",
      "       0.39355106, 0.62799081, 0.92148871, 0.82812447, 0.22407927]), array([0.6161472 , 0.51692853, 0.57417933, 0.45197516, 0.59470174,\n",
      "       0.32192301, 0.60971667, 0.99136321, 0.76137538, 0.17340306]), array([0.6161472 , 0.51692853, 0.57417933, 0.45197516, 0.59470174,\n",
      "       0.32192301, 0.60971667, 0.99136321, 0.76137538, 0.17340306]), array([0.6161472 , 0.51692853, 0.57417933, 0.45197516, 0.59470174,\n",
      "       0.32192301, 0.60971667, 0.99136321, 0.76137538, 0.17340306]), array([0.6161472 , 0.51692853, 0.57417933, 0.45197516, 0.59470174,\n",
      "       0.32192301, 0.60971667, 0.99136321, 0.76137538, 0.17340306]), array([0.6161472 , 0.51692853, 0.57417933, 0.45197516, 0.59470174,\n",
      "       0.32192301, 0.60971667, 0.99136321, 0.76137538, 0.17340306]), array([0.6161472 , 0.51692853, 0.57417933, 0.45197516, 0.59470174,\n",
      "       0.32192301, 0.60971667, 0.99136321, 0.76137538, 0.17340306]), array([0.6161472 , 0.51692853, 0.57417933, 0.45197516, 0.59470174,\n",
      "       0.32192301, 0.60971667, 0.99136321, 0.76137538, 0.17340306]), array([0.6161472 , 0.51692853, 0.57417933, 0.45197516, 0.59470174,\n",
      "       0.32192301, 0.60971667, 0.99136321, 0.76137538, 0.17340306])]\n",
      "[0.12239902080783355, 0.1, 0.0817, 0.06674889999999999, 0.054533851299999984, 0.044554156512099985, 0.036400745870385685, 0.029739409376105103, 0.024297097460277868, 0.019850728625047016, 0.016218045286663412, 0.013250142999204007, 0.010825366830349674, 0.008844324700395683, 0.007225813280223273]\n",
      "[0.17713869691409664, 0.17713869691409664, 0.17442557398113984, 0.1546914586124869, 0.1546914586124869, 0.1546914586124869, 0.1546914586124869, 0.15441240923135016, 0.15441240923135016, 0.15441240923135016, 0.15441240923135016, 0.15441240923135016, 0.15441240923135016, 0.15441240923135016, 0.15441240923135016]\n",
      "[0.6, 0.0, 0.1, 0.1, 0.0, 0.0, 0.0, 0.1, 0.0, 0.0, 0.0, 0.0, 0.0, 0.0, 0.0]\n"
     ]
    },
    {
     "name": "stderr",
     "output_type": "stream",
     "text": [
      "\n"
     ]
    }
   ],
   "source": [
    "# Hyperparameters could be change here:\n",
    "\n",
    "# Self adaptation of step-size: 1/5 Rule\n",
    "# It runs for a certain amount of runs with fix stepsize, and determine if the 1/5 \n",
    "# results are better than the parent generation.\n",
    "# if yes, stepsize /= a\n",
    "# else stepsize *= a\n",
    "\n",
    "\n",
    "HP_DECISION_INITVAL = 0.5   # Initial value for decision variable\n",
    "HP_STEPSIZE_INITVAL = 0.1   # Initial value for stepsize\n",
    "HP_GGENERATIONS = 10         # Run how many runs before updating the step size\n",
    "HP_A = 0.817                # a magical value to update step size, repordely 0.817 <= a <= 1\n",
    "HP_ITERATIONS = 15           # Run how many runs, the total pruning is HP_GGENERATIONS*HP_ITERATIONS\n",
    "\n",
    "\n",
    "#auto generated param(Don't change)\n",
    "Decision_arr = np.array([HP_DECISION_INITVAL for i in range(mp.prunable_layer_num)]) \n",
    "DV_record = []\n",
    "SZ_record = []\n",
    "BS_reocrd = []\n",
    "PS_record = []\n",
    "\n",
    "ans_decvar, ans_stepsize, ans_bestscore = ESXPlusX_OneFifth(Decision_var_record=DV_record,Stepsize_record=SZ_record,Best_score_record=BS_reocrd, PS_record=PS_record,\n",
    "            Decision_arr_init=Decision_arr,Stepsize_init=HP_STEPSIZE_INITVAL,\n",
    "            Ggenerations=HP_GGENERATIONS, hp_a_param=HP_A, Target_run=HP_ITERATIONS)\n",
    "\n",
    "\n",
    "print(DV_record)\n",
    "print(SZ_record)\n",
    "print(BS_reocrd)\n",
    "print(PS_record)"
   ]
  },
  {
   "cell_type": "code",
   "execution_count": 16,
   "metadata": {},
   "outputs": [
    {
     "data": {
      "image/png": "[encoded data removed]",
      "text/plain": [
       "<Figure size 1008x1440 with 4 Axes>"
      ]
     },
     "metadata": {
      "needs_background": "light"
     },
     "output_type": "display_data"
    }
   ],
   "source": [
    "def plotOFResult(arr1, arr2,arr3, arr2d, model_name):\n",
    "    run_num = len(arr1)\n",
    "    parm_num = len(arr2d[0])\n",
    "    plt.figure(figsize=(14,20))\n",
    "    \n",
    "    ax1 = plt.subplot(411)\n",
    "    ax1.plot(arr1)\n",
    "    ax1.set_title('Loss function')\n",
    "\n",
    "    ax2 = plt.subplot(412)\n",
    "    ax2.plot(arr2)\n",
    "    ax2.set_title('Step Size')\n",
    "\n",
    "    ax2 = plt.subplot(413)\n",
    "    ax2.plot(arr3)\n",
    "    ax2.set_title('PS')\n",
    "\n",
    "    ax3 = plt.subplot(414)\n",
    "    for line in range(parm_num):\n",
    "        ax3.plot([arr2d[j][line] for j in range(run_num)], label = f'layer {line}')\n",
    "\n",
    "    ax3.set_title('Pruning parameters')    \n",
    "    ax3.legend(loc=3)   \n",
    "\n",
    "    now=datetime.now()\n",
    "    time_print=now.strftime(\"%Y-%m-%d %H:%M:%S\")\n",
    "    plt.savefig(f'./image_output/{model_name}OneFifthEC_{run_num}runs_{time_print}.png',dpi = 400)\n",
    "    plt.show()\n",
    "    \n",
    "\n",
    "plotOFResult(BS_reocrd,SZ_record,PS_record,DV_record,\"VGG11\")\n",
    "\n"
   ]
  }
 ],
 "metadata": {
  "kernelspec": {
   "display_name": "scikit",
   "language": "python",
   "name": "python3"
  },
  "language_info": {
   "codemirror_mode": {
    "name": "ipython",
    "version": 3
   },
   "file_extension": ".py",
   "mimetype": "text/x-python",
   "name": "python",
   "nbconvert_exporter": "python",
   "pygments_lexer": "ipython3",
   "version": "3.6.13"
  },
  "orig_nbformat": 4,
  "vscode": {
   "interpreter": {
    "hash": "fb9ba1756cca27653a36bf8446556593e34ff8d293c8c0c6224e6349c94fa639"
   }
  }
 },
 "nbformat": 4,
 "nbformat_minor": 2
}
